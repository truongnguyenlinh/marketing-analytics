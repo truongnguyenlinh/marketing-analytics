{
 "cells": [
  {
   "cell_type": "markdown",
   "source": [
    "## Introduction\n",
    "Given a dataset with the following information, we will perform a marketing \n",
    "analysis on the XYZ company. Below are the following variables/features in \n",
    "the dataset:  \n",
    "\n",
    "- ID _(int)_: customer's unique identifier\n",
    "- Year_Birth _(int)_: customer's birth year\n",
    "- Education _(str)_: customer's education level\n",
    "- Marital_Status _(str)_: marital status (divorced, single, window, married \n",
    "etc)\n",
    "- Income _(str)_: yearly household income\n",
    "- Kidhome _(int)_: number of children in household\n",
    "- Teenhome _(int)_: number of teenagers in household\n",
    "- Dt_Customer _(datetime)_: date of enrollment\n",
    "- Recency _(int)_: number of days since last purchase\n",
    "- MntWines _(int)_: amount spent on wine in the last 2 years\n",
    "- MntFruits _(int)_: amount spent on fruits in the last 2 years\n",
    "- MntMeatProducts _(int)_: amount spent on meat in the last 2 years\n",
    "- MntFishProducts _(int)_: amount spent on fish in the last 2 years\n",
    "- MntSweetProducts _(int)_: amount spent on sweets in the last 2 years\n",
    "- MntGoldProds _(int)_: amount spent on gold in the last 2 years\n",
    "- NumDealsPurchases _(int)_: number of purchases made with a discount\n",
    "- NumWebPurchases _(int)_: number of purchases made through web site\n",
    "- NumCatalogPurchases _(int)_: number of purchases made using a catalogue\n",
    "- NumStorePurchases _(int)_: number of purchases made directly in stores\n",
    "- NumWebVisitsMonth _(int)_: number of visits to web site in the last month\n",
    "- AcceptedCmp1 _(int)_: 1 if customer accepted the offer in the 1st campaign, 0 \n",
    "otherwise\n",
    "- AcceptedCmp2 _(int)_: 1 if customer accepted the offer in the 2nd campaign, 0 \n",
    "otherwise\n",
    "- AcceptedCmp3 _(int)_: 1 if customer accepted the offer in the 3rd campaign, 0 \n",
    "otherwise\n",
    "- AcceptedCmp4 _(int)_: 1 if customer accepted the offer in the 4th campaign, 0 \n",
    "otherwise\n",
    "- AcceptedCmp5 _(int)_: 1 if customer accepted the offer in the 5th campaign, 0 \n",
    "otherwise\n",
    "- Response _(int)_: 1 if customer accepted the offer in the last campaign, 0 otherwise\n",
    "- Complain _(int)_: 1 if customer complained in the last 2 years, 0 otherwise\n",
    "- Country _(str)_: location of customer"
   ],
   "metadata": {
    "collapsed": false,
    "pycharm": {
     "name": "#%% md\n"
    }
   }
  },
  {
   "cell_type": "code",
   "execution_count": 3,
   "outputs": [
    {
     "name": "stdout",
     "text": [
      "     ID  Year_Birth   Education Marital_Status      Income   Kidhome  Teenhome Dt_Customer  Recency  MntWines  MntFruits  MntMeatProducts  MntFishProducts  MntSweetProducts  MntGoldProds  NumDealsPurchases  NumWebPurchases  NumCatalogPurchases  NumStorePurchases  NumWebVisitsMonth  AcceptedCmp3  AcceptedCmp4  AcceptedCmp5  AcceptedCmp1  AcceptedCmp2  Response  Complain Country\n0  1826        1970  Graduation       Divorced  $84,835.00         0         0     6/16/14        0       189        104              379              111               189           218                  1                4                    4                  6                  1             0             0             0             0             0         1         0      SP\nID                      int64\nYear_Birth              int64\nEducation              object\nMarital_Status         object\n Income                object\nKidhome                 int64\nTeenhome                int64\nDt_Customer            object\nRecency                 int64\nMntWines                int64\nMntFruits               int64\nMntMeatProducts         int64\nMntFishProducts         int64\nMntSweetProducts        int64\nMntGoldProds            int64\nNumDealsPurchases       int64\nNumWebPurchases         int64\nNumCatalogPurchases     int64\nNumStorePurchases       int64\nNumWebVisitsMonth       int64\nAcceptedCmp3            int64\nAcceptedCmp4            int64\nAcceptedCmp5            int64\nAcceptedCmp1            int64\nAcceptedCmp2            int64\nResponse                int64\nComplain                int64\nCountry                object\ndtype: object\n     ID  Year_Birth   Education Marital_Status     Income  Kidhome  Teenhome Dt_Customer  Recency  MntWines  MntFruits  MntMeatProducts  MntFishProducts  MntSweetProducts  MntGoldProds  NumDealsPurchases  NumWebPurchases  NumCatalogPurchases  NumStorePurchases  NumWebVisitsMonth  AcceptedCmp3  AcceptedCmp4  AcceptedCmp5  AcceptedCmp1  AcceptedCmp2  Response  Complain Country  Education#2n_Cycle  Education#Basic  Education#Graduation  Education#Master  Education#PhD  Marital_Status#Absurd  Marital_Status#Alone  Marital_Status#Divorced  Marital_Status#Married  Marital_Status#Single  Marital_Status#Together  Marital_Status#Widow  Marital_Status#YOLO  Dt_Year  Dt_Month  Dt_Day\n0  1826        1970  Graduation       Divorced  84835.00         0         0  2014-06-16        0       189        104              379              111               189           218                  1                4                    4                  6                  1             0             0             0             0             0         1         0      SP                   0                0                     1                 0              0                      0                     0                        1                       0                      0                        0                     0                    0     2014         6       6\n"
     ],
     "output_type": "stream"
    }
   ],
   "source": [
    "# Prior to analysis, we will clean the data and load modules\n",
    "\n",
    "import numpy as np\n",
    "import pandas as pd\n",
    "import matplotlib.pyplot as plt\n",
    "import seaborn as sns\n",
    "import warnings\n",
    "warnings.filterwarnings('ignore')\n",
    "pd.set_option(\"display.max_columns\", None)\n",
    "pd.set_option(\"display.max_rows\", None)\n",
    "pd.set_option(\"display.width\", 1000)\n",
    "\n",
    "df = pd.read_csv(\"marketing_data.csv\", sep=\",\")\n",
    "\n",
    "# View data\n",
    "print(df.head(1))\n",
    "\n",
    "# View data-types\n",
    "print(df.dtypes)\n",
    "\n",
    "# Convert categorical data\n",
    "df.columns = df.columns.str.strip()\n",
    "df[\"Education\"] = df[\"Education\"].replace([\"2n Cycle\"], \"2n_Cycle\")\n",
    "df[\"Education\"] = df[\"Education\"].astype(\"category\")\n",
    "df[\"Marital_Status\"] = df[\"Marital_Status\"].astype(\"category\")\n",
    "df[\"Country\"] = df[\"Country\"].astype(\"object\")\n",
    "df[\"Dt_Customer\"] = pd.to_datetime(df[\"Dt_Customer\"])\n",
    "\n",
    "# Encode categorical predictor variables\n",
    "categorical_columns = [\"Education\", \"Marital_Status\"]\n",
    "for cc in categorical_columns:\n",
    "    dummies = pd.get_dummies(df[cc])\n",
    "    dummies = dummies.add_prefix(\"{}#\".format(cc))\n",
    "    df = df.join(dummies)\n",
    "\n",
    "# Convert income to int\n",
    "df[\"Income\"] = df[\"Income\"].replace({\"\\$\": \"\", \",\": \"\"}, regex=True)\n",
    "df[\"Income\"] = df[\"Income\"].astype(\"float\")\n",
    "\n",
    "# Enrollment date\n",
    "df[\"Dt_Year\"] = df[\"Dt_Customer\"].dt.year\n",
    "df[\"Dt_Month\"] = df[\"Dt_Customer\"].dt.month\n",
    "df[\"Dt_Day\"] = df[\"Dt_Customer\"].dt.month\n",
    "\n",
    "# View updated dataset\n",
    "print(df.head(1))"
   ],
   "metadata": {
    "collapsed": false,
    "pycharm": {
     "name": "#%%\n",
     "is_executing": false
    }
   }
  }
 ],
 "metadata": {
  "kernelspec": {
   "display_name": "Python 3",
   "language": "python",
   "name": "python3"
  },
  "language_info": {
   "codemirror_mode": {
    "name": "ipython",
    "version": 2
   },
   "file_extension": ".py",
   "mimetype": "text/x-python",
   "name": "python",
   "nbconvert_exporter": "python",
   "pygments_lexer": "ipython2",
   "version": "2.7.6"
  },
  "pycharm": {
   "stem_cell": {
    "cell_type": "raw",
    "source": [],
    "metadata": {
     "collapsed": false
    }
   }
  }
 },
 "nbformat": 4,
 "nbformat_minor": 0
}