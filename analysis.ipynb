{
 "cells": [
  {
   "cell_type": "markdown",
   "source": [
    "## Introduction\n",
    "Given a dataset with the following information, we will perform a marketing \n",
    "analysis on the XYZ company. Below are the following variables/features in \n",
    "the dataset:  \n",
    "\n",
    "- ID _(int)_: customer's unique identifier\n",
    "- Year_Birth _(int)_: customer's birth year\n",
    "- Education _(str)_: customer's education level\n",
    "- Marital_Status _(str)_: marital status (divorced, single, window, married \n",
    "etc)\n",
    "- Income _(str)_: yearly household income\n",
    "- Kidhome _(int)_: number of children in household\n",
    "- Teenhome _(int)_: number of teenagers in household\n",
    "- Dt_Customer _(datetime)_: date of enrollment\n",
    "- Recency _(int)_: number of days since last purchase\n",
    "- MntWines _(int)_: amount spent on wine in the last 2 years\n",
    "- MntFruits _(int)_: amount spent on fruits in the last 2 years\n",
    "- MntMeatProducts _(int)_: amount spent on meat in the last 2 years\n",
    "- MntFishProducts _(int)_: amount spent on fish in the last 2 years\n",
    "- MntSweetProducts _(int)_: amount spent on sweets in the last 2 years\n",
    "- MntGoldProds _(int)_: amount spent on gold in the last 2 years\n",
    "- NumDealsPurchases _(int)_: number of purchases made with a discount\n",
    "- NumWebPurchases _(int)_: number of purchases made through web site\n",
    "- NumCatalogPurchases _(int)_: number of purchases made using a catalogue\n",
    "- NumStorePurchases _(int)_: number of purchases made directly in stores\n",
    "- NumWebVisitsMonth _(int)_: number of visits to web site in the last month\n",
    "- AcceptedCmp1 _(int)_: 1 if customer accepted the offer in the 1st campaign, 0 \n",
    "otherwise\n",
    "- AcceptedCmp2 _(int)_: 1 if customer accepted the offer in the 2nd campaign, 0 \n",
    "otherwise\n",
    "- AcceptedCmp3 _(int)_: 1 if customer accepted the offer in the 3rd campaign, 0 \n",
    "otherwise\n",
    "- AcceptedCmp4 _(int)_: 1 if customer accepted the offer in the 4th campaign, 0 \n",
    "otherwise\n",
    "- AcceptedCmp5 _(int)_: 1 if customer accepted the offer in the 5th campaign, 0 \n",
    "otherwise\n",
    "- Response _(int)_: 1 if customer accepted the offer in the last campaign, 0 otherwise\n",
    "- Complain _(int)_: 1 if customer complained in the last 2 years, 0 otherwise\n",
    "- Country _(str)_: location of customer"
   ],
   "metadata": {
    "collapsed": false,
    "pycharm": {
     "name": "#%% md\n"
    }
   }
  },
  {
   "cell_type": "code",
   "execution_count": 11,
   "outputs": [
    {
     "name": "stdout",
     "text": [
      "     ID  Year_Birth   Education Marital_Status      Income   Kidhome  Teenhome Dt_Customer  Recency  MntWines  MntFruits  MntMeatProducts  MntFishProducts  MntSweetProducts  MntGoldProds  NumDealsPurchases  NumWebPurchases  NumCatalogPurchases  NumStorePurchases  NumWebVisitsMonth  AcceptedCmp3  AcceptedCmp4  AcceptedCmp5  AcceptedCmp1  AcceptedCmp2  Response  Complain Country\n0  1826        1970  Graduation       Divorced  $84,835.00         0         0     6/16/14        0       189        104              379              111               189           218                  1                4                    4                  6                  1             0             0             0             0             0         1         0      SP\nID                      int64\nYear_Birth              int64\nEducation              object\nMarital_Status         object\n Income                object\nKidhome                 int64\nTeenhome                int64\nDt_Customer            object\nRecency                 int64\nMntWines                int64\nMntFruits               int64\nMntMeatProducts         int64\nMntFishProducts         int64\nMntSweetProducts        int64\nMntGoldProds            int64\nNumDealsPurchases       int64\nNumWebPurchases         int64\nNumCatalogPurchases     int64\nNumStorePurchases       int64\nNumWebVisitsMonth       int64\nAcceptedCmp3            int64\nAcceptedCmp4            int64\nAcceptedCmp5            int64\nAcceptedCmp1            int64\nAcceptedCmp2            int64\nResponse                int64\nComplain                int64\nCountry                object\ndtype: object\n",
      "     ID  Year_Birth   Education Marital_Status   Income  Kidhome  Teenhome Dt_Customer  Recency  MntWines  MntFruits  MntMeatProducts  MntFishProducts  MntSweetProducts  MntGoldProds  NumDealsPurchases  NumWebPurchases  NumCatalogPurchases  NumStorePurchases  NumWebVisitsMonth  AcceptedCmp3  AcceptedCmp4  AcceptedCmp5  AcceptedCmp1  AcceptedCmp2  Response  Complain Country  Education#2n_Cycle  Education#Basic  Education#Graduation  Education#Master  Education#PhD  Marital_Status#Absurd  Marital_Status#Alone  Marital_Status#Divorced  Marital_Status#Married  Marital_Status#Single  Marital_Status#Together  Marital_Status#Widow  Marital_Status#YOLO  Dt_Year  Dt_Month  Dt_Day\n0  1826        1970  Graduation       Divorced  84835.0        0         0  2014-06-16        0       189        104              379              111               189           218                  1                4                    4                  6                  1             0             0             0             0             0         1         0      SP                   0                0                     1                 0              0                      0                     0                        1                       0                      0                        0                     0                    0     2014         6       6\n"
     ],
     "output_type": "stream"
    }
   ],
   "source": [
    "# Prior to analysis, we will clean the data and load modules\n",
    "\n",
    "import numpy as np\n",
    "import pandas as pd\n",
    "from statsmodels.stats.power import TTestIndPower\n",
    "import matplotlib.pyplot as plt\n",
    "from scipy.stats import norm\n",
    "from sqlalchemy import create_engine\n",
    "import statsmodels.api as sm\n",
    "from math import sqrt\n",
    "from scipy import stats\n",
    "import warnings\n",
    "warnings.filterwarnings('ignore')\n",
    "pd.set_option(\"display.max_columns\", None)\n",
    "pd.set_option(\"display.max_rows\", None)\n",
    "pd.set_option(\"display.width\", 1000)\n",
    "\n",
    "df = pd.read_csv(\"marketing_data.csv\", sep=\",\")\n",
    "\n",
    "# View data\n",
    "print(df.head(1))\n",
    "\n",
    "# View data-types\n",
    "print(df.dtypes)\n",
    "\n",
    "# Convert categorical data\n",
    "df.columns = df.columns.str.strip()\n",
    "df[\"Education\"] = df[\"Education\"].replace([\"2n Cycle\"], \"2n_Cycle\")\n",
    "df[\"Education\"] = df[\"Education\"].astype(\"category\")\n",
    "df[\"Marital_Status\"] = df[\"Marital_Status\"].astype(\"category\")\n",
    "df[\"Country\"] = df[\"Country\"].astype(\"object\")\n",
    "df[\"Dt_Customer\"] = pd.to_datetime(df[\"Dt_Customer\"])\n",
    "\n",
    "# Encode categorical predictor variables\n",
    "categorical_columns = [\"Education\", \"Marital_Status\"]\n",
    "for cc in categorical_columns:\n",
    "    dummies = pd.get_dummies(df[cc])\n",
    "    dummies = dummies.add_prefix(\"{}#\".format(cc))\n",
    "    df = df.join(dummies)\n",
    "\n",
    "# Convert income to int\n",
    "df[\"Income\"] = df[\"Income\"].replace({\"\\$\": \"\", \",\": \"\"}, regex=True)\n",
    "df[\"Income\"] = df[\"Income\"].astype(\"float\")\n",
    "\n",
    "# Enrollment date\n",
    "df[\"Dt_Year\"] = df[\"Dt_Customer\"].dt.year\n",
    "df[\"Dt_Month\"] = df[\"Dt_Customer\"].dt.month\n",
    "df[\"Dt_Day\"] = df[\"Dt_Customer\"].dt.month\n",
    "\n",
    "# View updated dataset\n",
    "print(df.head(1))"
   ],
   "metadata": {
    "collapsed": false,
    "pycharm": {
     "name": "#%%\n",
     "is_executing": false
    }
   }
  },
  {
   "cell_type": "markdown",
   "source": [
    "# Market Segmentation\n",
    "Wine purchase is split into 3 categories, low, medium, high. Low wine purchase is between 0-33% of the\n",
    "wine column, medium is between 33%-66%, and high is 66% or higher.\n",
    "<br>\n",
    "From the three graphs, as a consumer purchases more wine over the 2 year period, they also purchase more\n",
    "a lot more meat, fish, and sweets. Fruits stayed relatively the same because the cost of fruits isn't too expensive.\n",
    "Consumers purchasing more products may be attributed to them having a higher disposable income."
   ],
   "metadata": {
    "collapsed": false
   }
  },
  {
   "cell_type": "code",
   "execution_count": 12,
   "outputs": [
    {
     "name": "stdout",
     "text": [
      "\n*************************\n",
      "   AVG(MntWines)  AVG(MntFruits)  AVG(MntMeatProducts)  AVG(MntFishProducts)  AVG(MntSweetProducts)  AVG(MntGoldProds)  AVG(NumDealsPurchases)  AVG(NumWebPurchases)  AVG(NumCatalogPurchases)  AVG(NumStorePurchases)  AVG(NumWebVisitsMonth)  AVG(AcceptedCmp3)  AVG(AcceptedCmp4)  AVG(AcceptedCmp5)  AVG(AcceptedCmp1)  AVG(AcceptedCmp2)  AVG(Response)\n0     712.190860       47.231183            335.068548             66.751344              49.895161          69.095430                2.293011              6.099462                  5.107527                8.568548                4.220430           0.092742           0.182796           0.200269           0.166667           0.032258       0.240591\n0     186.165333       27.342667            143.070667             39.209333              26.124000          50.081333                2.892000              4.426667                  2.466667                5.972000                5.269333           0.053333           0.038667           0.018667           0.026667           0.005333       0.128000\n0      15.176944        4.383378             23.289544              6.684987               5.235925          12.923592                1.786863              1.731903                  0.419571                2.836461                6.457105           0.072386           0.002681           0.000000           0.000000           0.002681       0.079088\n"
     ],
     "output_type": "stream"
    },
    {
     "data": {
      "text/plain": "<Figure size 1008x504 with 3 Axes>",
      "image/png": "[encoded data removed]"
     },
     "metadata": {
      "needs_background": "light"
     },
     "output_type": "display_data"
    }
   ],
   "source": [
    "data = df\n",
    "samples = np.array(data[['MntWines']])\n",
    "\n",
    "\n",
    "def execute_sql(sql, df):\n",
    "    engine = create_engine('sqlite://', echo=False)\n",
    "    connection = engine.connect()\n",
    "    df.to_sql(name='Marketing', con=connection, if_exists='replace', index=False)\n",
    "\n",
    "    # This code performs the query.\n",
    "    query_result = pd.read_sql(sql, connection)\n",
    "    return query_result\n",
    "\n",
    "\n",
    "def get_percentile_values(df):\n",
    "    one_third = df['MntWines'].quantile(0.333)\n",
    "    two_third = df['MntWines'].quantile(0.667)\n",
    "    return one_third, two_third\n",
    "\n",
    "\n",
    "def build_query(df, factorColumns):\n",
    "    print(\"\\n*************************\")\n",
    "    one_third, two_thirds = get_percentile_values(df)\n",
    "\n",
    "    # Build select clause.\n",
    "    select = \"SELECT \"\n",
    "    counter = 0\n",
    "    for colName in factorColumns:\n",
    "        select += \" AVG(\" + colName + \")\"\n",
    "        if counter < (len(factorColumns) - 1):\n",
    "            select += \",\"\n",
    "        counter += 1\n",
    "    select += \" FROM Marketing \"\n",
    "\n",
    "    # Query top satisfaction summary\n",
    "    sql = select + \" WHERE MntWines > \" + str(two_thirds)\n",
    "    results1 = execute_sql(sql, df)\n",
    "\n",
    "    # Query middle satisfaction summary\n",
    "    sql = select + \" WHERE MntWines >= \" + str(one_third) + \\\n",
    "          \" AND MntWines <= \" + str(two_thirds)\n",
    "    results2 = execute_sql(sql, df)\n",
    "\n",
    "    # Query low satisfaction summary\n",
    "    sql = select + \" WHERE MntWines < \" + str(one_third)\n",
    "    results3 = execute_sql(sql, df)\n",
    "\n",
    "    summary_df = results1.copy()\n",
    "    summary_df = summary_df.append(results2)\n",
    "    summary_df = summary_df.append(results3)\n",
    "    print(summary_df)\n",
    "    return results1, results2, results3\n",
    "\n",
    "\n",
    "factor_columns = ['MntWines', 'MntFruits', 'MntMeatProducts', 'MntFishProducts', 'MntSweetProducts', 'MntGoldProds',\n",
    "                 'NumDealsPurchases', 'NumWebPurchases', 'NumCatalogPurchases', 'NumStorePurchases',\n",
    "                 'NumWebVisitsMonth', 'AcceptedCmp3', 'AcceptedCmp4', 'AcceptedCmp5', 'AcceptedCmp1', 'AcceptedCmp2',\n",
    "                 'Response']\n",
    "\n",
    "colours = ['red', 'green', 'orange', 'yellow',\n",
    "          'purple', 'blue', 'pink', 'brown',\n",
    "          'black', 'cyan', 'gray']\n",
    "\n",
    "sub_df = data[factor_columns]\n",
    "high, medium, low = build_query(sub_df, factor_columns)\n",
    "\n",
    "# Show attribute plots for different satisfaction ranges.\n",
    "plt.subplots(nrows=1, ncols=3, figsize=(14, 7))\n",
    "\n",
    "# High satisfaction.\n",
    "plt.subplot(1, 3, 1)\n",
    "high_transposed = high.T.reset_index()\n",
    "plt.bar(high_transposed['index'], high_transposed[0], color=colours)\n",
    "plt.title(\"High wine purchase\")\n",
    "plt.ylim(0, 800)\n",
    "plt.xticks(rotation=70)\n",
    "\n",
    "# Medium satisfaction.\n",
    "plt.subplot(1, 3, 2)\n",
    "med_transposed = medium.T.reset_index()\n",
    "plt.bar(med_transposed['index'], med_transposed[0], color=colours)\n",
    "plt.title(\"Medium wine purchase\")\n",
    "plt.ylim(0, 800)\n",
    "plt.xticks(rotation=70)\n",
    "\n",
    "# Low satisfaction.\n",
    "plt.subplot(1, 3, 3)\n",
    "low_transposed = low.T.reset_index()\n",
    "plt.bar(low_transposed['index'], low_transposed[0], color=colours)\n",
    "plt.title(\"Low wine purchase\")\n",
    "plt.ylim(0, 800)\n",
    "plt.xticks(rotation=70)\n",
    "plt.tight_layout()\n",
    "plt.show()"
   ],
   "metadata": {
    "collapsed": false,
    "pycharm": {
     "name": "#%%\n",
     "is_executing": false
    }
   }
  },
  {
   "cell_type": "markdown",
   "source": [
    "# Monte Carlo\n",
    "A Monte Carlo simulation is done to perform a risk / reward analysis \n",
    "with random values from known distributions. We will be using our target \n",
    "column `MntWines` to generate this simulation. "
   ],
   "metadata": {
    "collapsed": false,
    "pycharm": {
     "name": "#%% md\n"
    }
   }
  },
  {
   "cell_type": "code",
   "execution_count": 13,
   "outputs": [
    {
     "data": {
      "text/plain": "<Figure size 432x288 with 1 Axes>",
      "image/png": "[encoded data removed]"
     },
     "metadata": {
      "needs_background": "light"
     },
     "output_type": "display_data"
    },
    {
     "name": "stdout",
     "text": [
      "=========Monte Carlo Simulation=========\n      ID  Year_Birth   Education Marital_Status   Income  Kidhome  Teenhome Dt_Customer  Recency  MntWines  MntFruits  MntMeatProducts  MntFishProducts  MntSweetProducts  MntGoldProds  NumDealsPurchases  NumWebPurchases  NumCatalogPurchases  NumStorePurchases  NumWebVisitsMonth  AcceptedCmp3  AcceptedCmp4  AcceptedCmp5  AcceptedCmp1  AcceptedCmp2  Response  Complain Country  Education#2n_Cycle  Education#Basic  Education#Graduation  Education#Master  Education#PhD  Marital_Status#Absurd  Marital_Status#Alone  Marital_Status#Divorced  Marital_Status#Married  Marital_Status#Single  Marital_Status#Together  Marital_Status#Widow  Marital_Status#YOLO  Dt_Year  Dt_Month  Dt_Day  MntWineSpent\n0   1826        1970  Graduation       Divorced  84835.0        0         0  2014-06-16        0       189        104              379              111               189           218                  1                4                    4                  6                  1             0             0             0             0             0         1         0      SP                   0                0                     1                 0              0                      0                     0                        1                       0                      0                        0                     0                    0     2014         6       6       -185.95\n1      1        1961  Graduation         Single  57091.0        0         0  2014-06-15        0       464          5               64                7                 0            37                  1                7                    3                  7                  5             0             0             0             0             1         1         0      CA                   0                0                     1                 0              0                      0                     0                        0                       0                      1                        0                     0                    0     2014         6       6       -243.48\n2  10476        1958  Graduation        Married  67267.0        0         1  2014-05-13        0       134         11               59               15                 2            30                  1                3                    2                  5                  2             0             0             0             0             0         0         0      US                   0                0                     1                 0              0                      0                     0                        0                       1                      0                        0                     0                    0     2014         5       5        366.59\n3   1386        1967  Graduation       Together  32474.0        1         1  2014-05-11        0        10          0                1                0                 0             0                  1                1                    0                  2                  7             0             0             0             0             0         0         0     AUS                   0                0                     1                 0              0                      0                     0                        0                       0                      0                        1                     0                    0     2014         5       5        144.78\n4   5371        1989  Graduation         Single  21474.0        1         0  2014-04-08        0         6         16               24               11                 0            34                  2                3                    1                  2                  7             1             0             0             0             0         1         0      SP                   0                0                     1                 0              0                      0                     0                        0                       0                      1                        0                     0                    0     2014         4       4        423.90\n5   7348        1958         PhD         Single  71691.0        0         0  2014-03-17        0       336        130              411              240                32            43                  1                4                    7                  5                  2             0             0             0             0             0         1         0      SP                   0                0                     0                 0              1                      0                     0                        0                       0                      1                        0                     0                    0     2014         3       3       1110.96\n6   4073        1954    2n_Cycle        Married  63564.0        0         0  2014-01-29        0       769         80              252               15                34            65                  1               10                   10                  7                  6             1             0             0             0             0         1         0     GER                   1                0                     0                 0              0                      0                     0                        0                       1                      0                        0                     0                    0     2014         1       1       -513.60\n7   1991        1967  Graduation       Together  44931.0        0         1  2014-01-18        0        78          0               11                0                 0             7                  1                2                    1                  3                  5             0             0             0             0             0         0         0      SP                   0                0                     1                 0              0                      0                     0                        0                       0                      0                        1                     0                    0     2014         1       1        -57.28\n8   4047        1954         PhD        Married  65324.0        0         1  2014-01-11        0       384          0              102               21                32             5                  3                6                    2                  9                  4             0             0             0             0             0         0         0      US                   0                0                     0                 0              1                      0                     0                        0                       1                      0                        0                     0                    0     2014         1       1        576.26\n9   9477        1954         PhD        Married  65324.0        0         1  2014-01-11        0       384          0              102               21                32             5                  3                6                    2                  9                  4             0             0             0             0             0         0         0     IND                   0                0                     0                 0              1                      0                     0                        0                       1                      0                        0                     0                    0     2014         1       1        225.56\n========================================\n"
     ],
     "output_type": "stream"
    }
   ],
   "source": [
    "# Target variable is MntWines, obtaining median and sd\n",
    "num_simulations = len(data)\n",
    "mnt_wines_expected = data[['MntWines']].mean()\n",
    "mnt_wines_sd = data[['MntWines']].std()\n",
    "\n",
    "wine_spent = norm.rvs(loc=mnt_wines_expected, scale=mnt_wines_sd, \n",
    "                      size=num_simulations)\n",
    "\n",
    "df_mc = pd.DataFrame(columns=[\"MntWineSpent\"])\n",
    "\n",
    "plt.hist(wine_spent, bins='auto')\n",
    "plt.show()\n",
    "\n",
    "for i in range(num_simulations):\n",
    "    dictionary = {\"MntWineSpent\": round(wine_spent[i], 2)}\n",
    "    df_mc = df_mc.append(dictionary, ignore_index=True)\n",
    "\n",
    "data = pd.concat([data, df_mc], axis=1, join=\"inner\")\n",
    "print(\"=========Monte Carlo Simulation=========\")\n",
    "print(data.head(10))\n",
    "print(\"========================================\")"
   ],
   "metadata": {
    "collapsed": false,
    "pycharm": {
     "name": "#%%\n",
     "is_executing": false
    }
   }
  },
  {
   "cell_type": "markdown",
   "source": [
    "# Conjoint\n",
    "The purpose of this survey was to figure out what factors are most important to consumers when\n",
    "buying wine. The following table are the parameters chosen for the survey.\n",
    "\n",
    "| Location        | Purchase           | Container  |\n",
    "| ------------- |:-------------:| -----:|\n",
    "| Canadian     | Price | bottle |\n",
    "| Foreign     | Review      |   box|\n",
    "| BC VQA | Quality     |    bag |"
   ],
   "metadata": {
    "collapsed": false
   }
  },
  {
   "cell_type": "code",
   "execution_count": 14,
   "outputs": [
    {
     "name": "stdout",
     "text": [
      "                            OLS Regression Results                            \n==============================================================================\nDep. Variable:                   Rank   R-squared:                       0.989\nModel:                            OLS   Adj. R-squared:                  0.956\nMethod:                 Least Squares   F-statistic:                     29.67\nDate:                Fri, 16 Apr 2021   Prob (F-statistic):             0.0330\nTime:                        01:59:00   Log-Likelihood:                -1.0583\nNo. Observations:                   9   AIC:                             16.12\nDf Residuals:                       2   BIC:                             17.50\nDf Model:                           6                                         \nCovariance Type:            nonrobust                                         \n======================================================================================\n                         coef    std err          t      P>|t|      [0.025      0.975]\n--------------------------------------------------------------------------------------\nconst                  2.5000      0.096     25.981      0.001       2.086       2.914\nLocation_Canadian      0.8333      0.274      3.041      0.093      -0.346       2.012\nLocation_Foreign      -0.8333      0.274     -3.041      0.093      -2.012       0.346\nLocation_local VQA     2.5000      0.274      9.122      0.012       1.321       3.679\nPurchase_Price         1.1667      0.274      4.257      0.051      -0.012       2.346\nPurchase_Reviews       0.8333      0.274      3.041      0.093      -0.346       2.012\nPurchase_quality       0.5000      0.274      1.824      0.210      -0.679       1.679\nContainer_bag          1.8333      0.274      6.690      0.022       0.654       3.012\nContainer_bottle       2.8333      0.274     10.339      0.009       1.654       4.012\nContainer_box         -2.1667      0.274     -7.906      0.016      -3.346      -0.988\n==============================================================================\nOmnibus:                        2.380   Durbin-Watson:                   2.833\nProb(Omnibus):                  0.304   Jarque-Bera (JB):                0.844\nSkew:                          -0.000   Prob(JB):                        0.656\nKurtosis:                       1.500   Cond. No.                     3.21e+16\n==============================================================================\n\nNotes:\n[1] Standard Errors assume that the covariance matrix of the errors is correctly specified.\n[2] The input rank is higher than the number of observations.\n[3] The smallest eigenvalue is 1.75e-32. This might indicate that there are\nstrong multicollinearity problems or that the design matrix is singular.\n : Location_Canadian: 0.8333333333333321\n : Location_Foreign: -0.8333333333333331\n : Location_local VQA: 2.5000000000000027\n : Purchase_Price: 1.166666666666667\n : Purchase_Reviews: 0.8333333333333328\n : Purchase_quality: 0.49999999999999967\n : Container_bag: 1.833333333333333\n : Container_bottle: 2.833333333333332\n : Container_box: -2.166666666666666\nLocation importance: 37.03703703703707\nPurchase importance: 7.4074074074074145\nContainer importance: 55.555555555555536\n"
     ],
     "output_type": "stream"
    },
    {
     "data": {
      "text/plain": "<Figure size 432x288 with 1 Axes>",
      "image/png": "[encoded data removed]"
     },
     "metadata": {
      "needs_background": "light"
     },
     "output_type": "display_data"
    },
    {
     "data": {
      "text/plain": "<Figure size 432x288 with 1 Axes>",
      "image/png": "[encoded data removed]"
     },
     "metadata": {
      "needs_background": "light"
     },
     "output_type": "display_data"
    }
   ],
   "source": [
    "# read in conjoint survey profiles with respondent ranks\n",
    "df_survey = pd.read_csv('survey_results.csv')\n",
    "\n",
    "# This performs a weighted regression for ranking with string variables as\n",
    "# levels.\n",
    "attribute_names = [ 'Location', 'Purchase', 'Container']\n",
    "\n",
    "y = df_survey[['Rank']]\n",
    "X = df_survey[attribute_names]\n",
    "X = pd.get_dummies(X, columns=attribute_names )\n",
    "X = sm.add_constant(X)\n",
    "\n",
    "lr_model = sm.OLS(y, X).fit()\n",
    "print(lr_model.summary())\n",
    "\n",
    "counter     = 0\n",
    "level_names  = list(X.keys())# Level names are taken directly from X column names.\n",
    "level_names.pop(0)           # Remove constant for intercept.\n",
    "ranges      = []\n",
    "\n",
    "# Store all part-worth (utility) values in a list.\n",
    "# The values are taken directly from the model coefficients.\n",
    "utilities   = list(lr_model.params)\n",
    "utilities.pop(0)            # Removes the intercept value.\n",
    "\n",
    "# Iterate through all attributes to create part-worths.\n",
    "for attribute_name in attribute_names:\n",
    "    part_worths = []\n",
    "\n",
    "    # Iterate through all levels.\n",
    "    for level_name in level_names:\n",
    "        # If level name contains the attribute store the part worth.\n",
    "        if attribute_name in level_name:\n",
    "            part_worth = utilities[counter] \n",
    "            # Store corresponding model coefficient.\n",
    "            print(\" :\", level_name + \": \" + str(part_worth))\n",
    "            part_worths.append(part_worth)\n",
    "            counter += 1\n",
    "\n",
    "    # Summarize utility range for the attribute.\n",
    "    part_worth_range = max(part_worths) - min(part_worths)\n",
    "    ranges.append(part_worth_range)\n",
    "\n",
    "# Calculate relative importance scores for each attribute.\n",
    "importances = []\n",
    "for i in range(0, len(ranges)):\n",
    "    importance = 100*ranges[i]/sum(ranges)\n",
    "    importances.append(importance)\n",
    "    print(attribute_names[i] + \" importance: \" + str(importance))\n",
    "\n",
    "# Show the importance of each attribute.\n",
    "plt.bar(attribute_names, importances)\n",
    "plt.title(\"Attribute Importance\")\n",
    "plt.show()\n",
    "\n",
    "# Show user's preference for all levels.\n",
    "plt.bar(level_names, utilities)\n",
    "plt.title(\"Level Part-Worths Representing a Person’s Preferences\")\n",
    "plt.xticks(rotation=80)\n",
    "plt.show()"
   ],
   "metadata": {
    "collapsed": false,
    "pycharm": {
     "name": "#%%\n",
     "is_executing": false
    }
   }
  },
  {
   "cell_type": "markdown",
   "source": [
    "The results of the survey shows that Container is the most important factor taken into consideration\n",
    "when making a wine purchase. Location of the wine is the second most\n",
    "important factor.\n",
    "<br>\n",
    "This survey represents the team really as we both find container type to be the most important factor.\n",
    "The results from this survey can potentially benefit companies who want to find out what\n",
    "potential customers are looking for."
   ],
   "metadata": {
    "collapsed": false
   }
  },
  {
   "cell_type": "markdown",
   "source": [
    "## A/B Testing\n",
    "This section performs A/B testing on the amount of wine purchased and Income\n",
    "<br> ----<br>\n",
    "Hypothesis <br>\n",
    "H0: A consumer's income has no impact on money spent on wine.\n",
    "<br>\n",
    "H1: When a consumer's income is increased from an average of $45,488 to \\$70,515, they will\n",
    "purchase more wine."
   ],
   "metadata": {
    "collapsed": false
   }
  },
  {
   "cell_type": "markdown",
   "source": [
    "Split data into 3 groups based on the MntWine column."
   ],
   "metadata": {
    "collapsed": false
   }
  },
  {
   "cell_type": "code",
   "execution_count": 15,
   "outputs": [],
   "source": [
    "df_wine = df[\"MntWines\"]\n",
    "first_third = df_wine.max() * 0.33\n",
    "second_third = df_wine.max() * 0.66\n",
    "max_wine = df_wine.max()\n",
    "min_wine = df_wine.min()\n",
    "df_first = df[df['MntWines'] < first_third]\n",
    "df_first = df_first['Income']\n",
    "df_second = df[(df['MntWines'] > first_third) & (df['MntWines'] < second_third)]\n",
    "df_second = df_second['Income']\n",
    "df_third = df[df['MntWines'] > second_third]\n",
    "df_third = df_third['Income']"
   ],
   "metadata": {
    "collapsed": false,
    "pycharm": {
     "name": "#%%\n",
     "is_executing": false
    }
   }
  },
  {
   "cell_type": "markdown",
   "source": [
    "Calculate the Cohen d value. The result of this is how many sample we need to calculate the p value."
   ],
   "metadata": {
    "collapsed": false
   }
  },
  {
   "cell_type": "code",
   "execution_count": 16,
   "outputs": [
    {
     "name": "stdout",
     "text": [
      "6.0865228316807505\n"
     ],
     "output_type": "stream"
    }
   ],
   "source": [
    "cohen = ((df_first.mean() - second_third.mean()) / (sqrt((df_first.std() ** 2 + df_second.std() **2) / 2)))\n",
    "effect = cohen # Obtained from previous step.\n",
    "alpha = 0.05  # Enable 95% confidence for two tail test.\n",
    "power = 0.95  # One minus the probability of a type II error.\n",
    "\n",
    "# Limits possibility of type II error to 20%.\n",
    "analysis = TTestIndPower()\n",
    "num_samples_needed = analysis.solve_power(effect, power=power, alpha=alpha)\n",
    "print(num_samples_needed)"
   ],
   "metadata": {
    "collapsed": false,
    "pycharm": {
     "name": "#%%\n",
     "is_executing": false
    }
   }
  },
  {
   "cell_type": "markdown",
   "source": [
    "Calculate P value with the required sample size (cohen d value)"
   ],
   "metadata": {
    "collapsed": false
   }
  },
  {
   "cell_type": "code",
   "execution_count": 17,
   "outputs": [
    {
     "name": "stdout",
     "text": [
      "Hypothesis test p-value: Ttest_indResult(statistic=3.442238703031309, pvalue=0.007127614873122413)\nNew mean: 70003.5\nNew std: 12081.507366632692\n"
     ],
     "output_type": "stream"
    }
   ],
   "source": [
    "old_menu_list = []\n",
    "new_menu_list = []\n",
    "old_menu_sales = [list(df_first.sample(n=6))]\n",
    "for i in (old_menu_sales[0]):\n",
    "    old_menu_list.append(i)\n",
    "new_menu_sales = [df_third.sample(n=6).tolist()]\n",
    "for i in new_menu_sales[0]:\n",
    "    new_menu_list.append(i)\n",
    "\n",
    "testResult = stats.ttest_ind(new_menu_list, old_menu_list, equal_var=False)\n",
    "\n",
    "print(\"Hypothesis test p-value: \" + str(testResult))\n",
    "print(\"New mean: \" + str(np.mean(new_menu_sales)))\n",
    "print(\"New std: \" + str(np.std(new_menu_sales)))"
   ],
   "metadata": {
    "collapsed": false,
    "pycharm": {
     "name": "#%%\n",
     "is_executing": false
    }
   }
  },
  {
   "cell_type": "markdown",
   "source": [
    "With the p value being less than 0.05, we can reject the null hypothesis which says wine\n",
    "purchased is not related to consumer's income."
   ],
   "metadata": {
    "collapsed": false
   }
  }
 ],
 "metadata": {
  "kernelspec": {
   "display_name": "Python 3",
   "language": "python",
   "name": "python3"
  },
  "language_info": {
   "codemirror_mode": {
    "name": "ipython",
    "version": 2
   },
   "file_extension": ".py",
   "mimetype": "text/x-python",
   "name": "python",
   "nbconvert_exporter": "python",
   "pygments_lexer": "ipython2",
   "version": "2.7.6"
  },
  "pycharm": {
   "stem_cell": {
    "cell_type": "raw",
    "source": [],
    "metadata": {
     "collapsed": false
    }
   }
  }
 },
 "nbformat": 4,
 "nbformat_minor": 0
}